{
  "nbformat": 4,
  "nbformat_minor": 0,
  "metadata": {
    "colab": {
      "provenance": [],
      "authorship_tag": "ABX9TyNZx934QBrFKEQk2l9a9vxd",
      "include_colab_link": true
    },
    "kernelspec": {
      "name": "python3",
      "display_name": "Python 3"
    },
    "language_info": {
      "name": "python"
    }
  },
  "cells": [
    {
      "cell_type": "markdown",
      "metadata": {
        "id": "view-in-github",
        "colab_type": "text"
      },
      "source": [
        "<a href=\"https://colab.research.google.com/github/subi2404/Internship-Data_Science/blob/main/Day1.ipynb\" target=\"_parent\"><img src=\"https://colab.research.google.com/assets/colab-badge.svg\" alt=\"Open In Colab\"/></a>"
      ]
    },
    {
      "cell_type": "markdown",
      "source": [
        "⏩**DataFrame** -structured representation of data"
      ],
      "metadata": {
        "id": "KXt9XsQkXG7g"
      }
    },
    {
      "cell_type": "code",
      "execution_count": null,
      "metadata": {
        "colab": {
          "base_uri": "https://localhost:8080/"
        },
        "id": "bejDdoOQGde8",
        "outputId": "38641074-5c2d-4733-d447-5a6072182764"
      },
      "outputs": [
        {
          "output_type": "stream",
          "name": "stdout",
          "text": [
            "   col1  col2  col3\n",
            "0     1     5     9\n",
            "1     2     6    10\n",
            "2     3     7    11\n",
            "3     4     8    12\n"
          ]
        }
      ],
      "source": [
        "import pandas as pd\n",
        "d={'col1':[1,2,3,4],'col2':[5,6,7,8],'col3':[9,10,11,12]}\n",
        "df=pd.DataFrame(data=d)  #DataFrame() function from pandas library\n",
        "print(df)"
      ]
    },
    {
      "cell_type": "code",
      "source": [
        "import pandas as pd\n",
        "d={'col1':[1,2,3,4],'col2':[5,6,7,8],'col3':[9,10,11,12]}\n",
        "df=pd.DataFrame(data=d)\n",
        "count_column=df.shape[1]     #shape[no. of rows,no.of columns]\n",
        "print(\"No. of columns:\",count_column)"
      ],
      "metadata": {
        "colab": {
          "base_uri": "https://localhost:8080/"
        },
        "id": "_wqV3m4YHu0K",
        "outputId": "c182c9a4-b538-4013-fd0e-426195bb634d"
      },
      "execution_count": null,
      "outputs": [
        {
          "output_type": "stream",
          "name": "stdout",
          "text": [
            "No. of columns: 3\n"
          ]
        }
      ]
    },
    {
      "cell_type": "code",
      "source": [
        "import pandas as pd\n",
        "d={'col1':[1,2,3,4],'col2':[5,6,7,8],'col3':[9,10,11,12]}\n",
        "df=pd.DataFrame(data=d)\n",
        "cr=df.shape[0]\n",
        "print(\"No. of rows:\",cr)"
      ],
      "metadata": {
        "colab": {
          "base_uri": "https://localhost:8080/"
        },
        "id": "7VRWDPmHI2ZG",
        "outputId": "4413dda7-3d9d-4652-8862-4ab4f5fefc7c"
      },
      "execution_count": null,
      "outputs": [
        {
          "output_type": "stream",
          "name": "stdout",
          "text": [
            "No. of rows: 4\n"
          ]
        }
      ]
    },
    {
      "cell_type": "code",
      "source": [
        "import pandas as pd\n",
        "d={'Name':['John','Eva','Erick'],'Age':[18,19,20],\n",
        "   'Address':[\"No.3/4,abc plot,NYC\",\"No.5/6,dfg plot,Germany\",\"No.6/4,rty plot,NYC\"]}\n",
        "df=pd.DataFrame(data=d)\n",
        "print(df)"
      ],
      "metadata": {
        "colab": {
          "base_uri": "https://localhost:8080/"
        },
        "id": "FygFFxEpPd9b",
        "outputId": "25ac830b-34af-4423-b145-09e25692c968"
      },
      "execution_count": null,
      "outputs": [
        {
          "output_type": "stream",
          "name": "stdout",
          "text": [
            "    Name  Age                  Address\n",
            "0   John   18      No.3/4,abc plot,NYC\n",
            "1    Eva   19  No.5/6,dfg plot,Germany\n",
            "2  Erick   20      No.6/4,rty plot,NYC\n"
          ]
        }
      ]
    },
    {
      "cell_type": "markdown",
      "source": [
        "⏩**Min,Max,Mean Functions**"
      ],
      "metadata": {
        "id": "MW5JGMuOXNmI"
      }
    },
    {
      "cell_type": "code",
      "source": [
        "marks=min(90,78,89,90,78,89)\n",
        "print(\"Min:\",marks)"
      ],
      "metadata": {
        "colab": {
          "base_uri": "https://localhost:8080/"
        },
        "id": "1vAJngBcXRc4",
        "outputId": "4603868f-fb95-402c-fe0c-78af490c2dde"
      },
      "execution_count": null,
      "outputs": [
        {
          "output_type": "stream",
          "name": "stdout",
          "text": [
            "Min: 78\n"
          ]
        }
      ]
    },
    {
      "cell_type": "code",
      "source": [
        "marks=max(90,78,89,90,78,89)\n",
        "print(\"Max:\",marks)"
      ],
      "metadata": {
        "colab": {
          "base_uri": "https://localhost:8080/"
        },
        "id": "4OFUJHtOXdqd",
        "outputId": "ba5cb04e-da66-40f8-9085-fb61cea15545"
      },
      "execution_count": null,
      "outputs": [
        {
          "output_type": "stream",
          "name": "stdout",
          "text": [
            "Max: 90\n"
          ]
        }
      ]
    },
    {
      "cell_type": "code",
      "source": [
        "import numpy as np\n",
        "marks=[90,78,89,90,78,89]\n",
        "Mean=np.mean(marks) #mean() function from numpy library\n",
        "print(\"Mean:\",Mean)"
      ],
      "metadata": {
        "id": "Pg6CvXIhX5pt",
        "colab": {
          "base_uri": "https://localhost:8080/"
        },
        "outputId": "c89eccf9-2960-45cd-d9eb-60f9ba55a569"
      },
      "execution_count": null,
      "outputs": [
        {
          "output_type": "stream",
          "name": "stdout",
          "text": [
            "Mean: 85.66666666666667\n"
          ]
        }
      ]
    },
    {
      "cell_type": "markdown",
      "source": [
        "⏩**Data Preparation**-extracting and cleaning the data before analyzing"
      ],
      "metadata": {
        "id": "42ZZd6VvZ_aT"
      }
    },
    {
      "cell_type": "markdown",
      "source": [
        "✴Extracting data with read_csv() function"
      ],
      "metadata": {
        "id": "FqSYEErhAyZZ"
      }
    },
    {
      "cell_type": "code",
      "source": [
        "import pandas as pd\n",
        "healthData=pd.read_csv(\"SportsWatch_St.csv\",header=0,sep=\",\") #importing/extracting the data using read_csv()\n",
        "print(healthData)"
      ],
      "metadata": {
        "colab": {
          "base_uri": "https://localhost:8080/"
        },
        "id": "xfKrErTrJxxR",
        "outputId": "74c0e4d7-606c-45c7-cb05-5f0e2735ccd3"
      },
      "execution_count": null,
      "outputs": [
        {
          "output_type": "stream",
          "name": "stdout",
          "text": [
            "   Duration  Average_Pulse  Max_Pulse  Calorie_Burnage  Hours_Work  \\\n",
            "0        30             80        120              240          10   \n",
            "1        30             85        120              250          10   \n",
            "2        45             90        130              260           8   \n",
            "3        45             95        130              270           8   \n",
            "4        45            100        140              280           0   \n",
            "5        60            105        140              290           7   \n",
            "6        60            110        145              300           7   \n",
            "7        60            115        145              310           8   \n",
            "8        75            120        150              320           0   \n",
            "9        75            125        150              330           8   \n",
            "\n",
            "   Hours_Sleep  \n",
            "0            7  \n",
            "1            7  \n",
            "2            7  \n",
            "3            7  \n",
            "4            7  \n",
            "5            8  \n",
            "6            8  \n",
            "7            8  \n",
            "8            8  \n",
            "9            8  \n"
          ]
        }
      ]
    },
    {
      "cell_type": "code",
      "source": [
        "import pandas as pd\n",
        "healthData=pd.read_csv(\"SportsWatch_St.csv\",header=0,sep=\",\")\n",
        "print(healthData.head())  #using head() function to show top 5 rows"
      ],
      "metadata": {
        "colab": {
          "base_uri": "https://localhost:8080/"
        },
        "id": "aHhY5nJ6fLSX",
        "outputId": "0e5aca68-635e-4888-88b6-e6c62bcb3e40"
      },
      "execution_count": 7,
      "outputs": [
        {
          "output_type": "stream",
          "name": "stdout",
          "text": [
            "   Duration  Average_Pulse  Max_Pulse  Calorie_Burnage  Hours_Work  \\\n",
            "0        30             80        120              240          10   \n",
            "1        30             85        120              250          10   \n",
            "2        45             90        130              260           8   \n",
            "3        45             95        130              270           8   \n",
            "4        45            100        140              280           0   \n",
            "\n",
            "   Hours_Sleep  \n",
            "0            7  \n",
            "1            7  \n",
            "2            7  \n",
            "3            7  \n",
            "4            7  \n"
          ]
        }
      ]
    },
    {
      "cell_type": "markdown",
      "source": [
        "✴ Data cleaning using dropna() funtion"
      ],
      "metadata": {
        "id": "1ogfEm9BBJR4"
      }
    },
    {
      "cell_type": "code",
      "source": [
        "import pandas as pd\n",
        "hd=pd.read_csv(\"SportsWatch_Unst.csv\",header=0,sep=\",\")\n",
        "hd.dropna(axis=0,inplace=True) #dropna() used to remove NaN values(data cleaning)\n",
        "print(hd)"
      ],
      "metadata": {
        "colab": {
          "base_uri": "https://localhost:8080/"
        },
        "id": "tb0bhi60henk",
        "outputId": "3c611d4b-2b82-4b51-bbcd-90f0d5bb0109"
      },
      "execution_count": 5,
      "outputs": [
        {
          "output_type": "stream",
          "name": "stdout",
          "text": [
            "   Duration  Average_Pulse  Max_Pulse  Calorie_Burnage  Hours_Work  \\\n",
            "0        30             80        120            240.0          10   \n",
            "1        30             85        120            250.0          10   \n",
            "3        45             89        130            270.0           7   \n",
            "4        45            100        140            280.0           0   \n",
            "5        60            105        140            290.0           7   \n",
            "6        60            110        135            300.0           7   \n",
            "9        75            125        150            330.0           8   \n",
            "\n",
            "   Hours_Sleep  \n",
            "0          7.0  \n",
            "1          7.0  \n",
            "3          7.0  \n",
            "4          7.0  \n",
            "5          8.0  \n",
            "6          8.0  \n",
            "9          8.0  \n"
          ]
        }
      ]
    },
    {
      "cell_type": "markdown",
      "source": [
        "✴**Data Categories**\n",
        "*  Numerical-Discrete,Continuous\n",
        "*  Categorical\n",
        "*  Ordinal\n",
        "\n",
        "\n",
        "\n",
        "\n"
      ],
      "metadata": {
        "id": "8LOjuCmT5TfD"
      }
    },
    {
      "cell_type": "markdown",
      "source": [
        "info() - to list the data types in the\n",
        "data set                                                     \n",
        "astype() - to convert the data type"
      ],
      "metadata": {
        "id": "1X4Rw9F87ALY"
      }
    },
    {
      "cell_type": "code",
      "source": [
        "print(healthData.info())"
      ],
      "metadata": {
        "colab": {
          "base_uri": "https://localhost:8080/"
        },
        "id": "xm_Ihh3c4341",
        "outputId": "da4d9106-5228-4de6-fd1a-07eab0c148e3"
      },
      "execution_count": 8,
      "outputs": [
        {
          "output_type": "stream",
          "name": "stdout",
          "text": [
            "<class 'pandas.core.frame.DataFrame'>\n",
            "RangeIndex: 10 entries, 0 to 9\n",
            "Data columns (total 6 columns):\n",
            " #   Column           Non-Null Count  Dtype\n",
            "---  ------           --------------  -----\n",
            " 0   Duration         10 non-null     int64\n",
            " 1   Average_Pulse    10 non-null     int64\n",
            " 2   Max_Pulse        10 non-null     int64\n",
            " 3   Calorie_Burnage  10 non-null     int64\n",
            " 4   Hours_Work       10 non-null     int64\n",
            " 5   Hours_Sleep      10 non-null     int64\n",
            "dtypes: int64(6)\n",
            "memory usage: 608.0 bytes\n",
            "None\n"
          ]
        }
      ]
    },
    {
      "cell_type": "markdown",
      "source": [
        "✴**Analyzing the data**                          \n",
        "describe()- to summarize the data                \n",
        "\n",
        "---\n",
        "\n",
        "\n",
        "count- the no. of observations                     \n",
        "mean- the average value                         \n",
        "std- standard deviation                        \n",
        "min- the minimum value                          \n",
        "25%,50%,75%- percentiles                     \n",
        "max- the maximum value"
      ],
      "metadata": {
        "id": "Kdhpqv2L8Yxk"
      }
    },
    {
      "cell_type": "code",
      "source": [
        "print(healthData.describe())"
      ],
      "metadata": {
        "id": "0RP0eMojaHvu",
        "colab": {
          "base_uri": "https://localhost:8080/"
        },
        "outputId": "2ff7a1e9-60ae-459c-b214-e01829687994"
      },
      "execution_count": 9,
      "outputs": [
        {
          "output_type": "stream",
          "name": "stdout",
          "text": [
            "        Duration  Average_Pulse   Max_Pulse  Calorie_Burnage  Hours_Work  \\\n",
            "count  10.000000      10.000000   10.000000        10.000000   10.000000   \n",
            "mean   52.500000     102.500000  137.000000       285.000000    6.600000   \n",
            "std    16.201852      15.138252   11.352924        30.276504    3.627059   \n",
            "min    30.000000      80.000000  120.000000       240.000000    0.000000   \n",
            "25%    45.000000      91.250000  130.000000       262.500000    7.000000   \n",
            "50%    52.500000     102.500000  140.000000       285.000000    8.000000   \n",
            "75%    60.000000     113.750000  145.000000       307.500000    8.000000   \n",
            "max    75.000000     125.000000  150.000000       330.000000   10.000000   \n",
            "\n",
            "       Hours_Sleep  \n",
            "count    10.000000  \n",
            "mean      7.500000  \n",
            "std       0.527046  \n",
            "min       7.000000  \n",
            "25%       7.000000  \n",
            "50%       7.500000  \n",
            "75%       8.000000  \n",
            "max       8.000000  \n"
          ]
        }
      ]
    }
  ]
}